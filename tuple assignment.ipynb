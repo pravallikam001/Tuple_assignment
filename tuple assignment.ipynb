{
 "cells": [
  {
   "cell_type": "markdown",
   "id": "a837679f",
   "metadata": {},
   "source": [
    "# tupples assignment"
   ]
  },
  {
   "cell_type": "code",
   "execution_count": 4,
   "id": "59f85d97",
   "metadata": {},
   "outputs": [
    {
     "data": {
      "text/plain": [
       "2"
      ]
     },
     "execution_count": 4,
     "metadata": {},
     "output_type": "execute_result"
    }
   ],
   "source": [
    "#finding element frequency in tuple\n",
    "t=(4,5,4,5,6,6,5)\n",
    "t.count(4)"
   ]
  },
  {
   "cell_type": "code",
   "execution_count": 5,
   "id": "cdfe10ec",
   "metadata": {},
   "outputs": [
    {
     "data": {
      "text/plain": [
       "3"
      ]
     },
     "execution_count": 5,
     "metadata": {},
     "output_type": "execute_result"
    }
   ],
   "source": [
    "t.count(5)\n"
   ]
  },
  {
   "cell_type": "code",
   "execution_count": 6,
   "id": "04981349",
   "metadata": {},
   "outputs": [
    {
     "data": {
      "text/plain": [
       "2"
      ]
     },
     "execution_count": 6,
     "metadata": {},
     "output_type": "execute_result"
    }
   ],
   "source": [
    "t.count(6)\n"
   ]
  },
  {
   "cell_type": "code",
   "execution_count": 10,
   "id": "4ab43427",
   "metadata": {},
   "outputs": [
    {
     "data": {
      "text/plain": [
       "[('aa', 30), ('aaaa', 28), ('bab', 29), ('bb', 21), ('csa', 20)]"
      ]
     },
     "execution_count": 10,
     "metadata": {},
     "output_type": "execute_result"
    }
   ],
   "source": [
    "#phython program to sort a list of tuples alphabatically\n",
    "l1=[(\"aaaa\",28),(\"aa\",30),(\"bab\",29),(\"bb\",21),(\"csa\",20)]\n",
    "l1.sort()\n",
    "l1"
   ]
  },
  {
   "cell_type": "code",
   "execution_count": 26,
   "id": "216611b7",
   "metadata": {},
   "outputs": [
    {
     "name": "stdout",
     "output_type": "stream",
     "text": [
      "28\n",
      "41\n",
      "-18\n",
      "9.333333333333334\n",
      "13.666666666666666\n",
      "-6.0\n"
     ]
    }
   ],
   "source": [
    "#((1,1,-5),(30,-15,26),(81,-60,-39),(-10,2,3))\n",
    "t1=(1,1,-5)\n",
    "t2=(30,-15,26)\n",
    "t3=(81,-60,-39)\n",
    "t4=(-10,2,3)\n",
    "sum1=(t1[0]+t1[1]+t2[2])\n",
    "sum2=(t2[0]+t2[1]+t2[2])\n",
    "sum3=(t3[0]+t3[1]+t3[2])\n",
    "print(sum1)\n",
    "print(sum2)\n",
    "print(sum3)\n",
    "average1=(sum1)/3\n",
    "print(average1)\n",
    "average2=(sum2)/3\n",
    "print(average2)\n",
    "average3=(sum3)/3\n",
    "print(average3)\n",
    "\n",
    "\n",
    "\n",
    "    "
   ]
  },
  {
   "cell_type": "code",
   "execution_count": null,
   "id": "cf8d3080",
   "metadata": {},
   "outputs": [],
   "source": []
  }
 ],
 "metadata": {
  "kernelspec": {
   "display_name": "Python 3 (ipykernel)",
   "language": "python",
   "name": "python3"
  },
  "language_info": {
   "codemirror_mode": {
    "name": "ipython",
    "version": 3
   },
   "file_extension": ".py",
   "mimetype": "text/x-python",
   "name": "python",
   "nbconvert_exporter": "python",
   "pygments_lexer": "ipython3",
   "version": "3.9.13"
  }
 },
 "nbformat": 4,
 "nbformat_minor": 5
}
